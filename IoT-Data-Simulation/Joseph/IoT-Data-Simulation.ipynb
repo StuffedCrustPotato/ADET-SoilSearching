{
  "metadata": {
    "kernelspec": {
      "name": "python",
      "display_name": "Python (Pyodide)",
      "language": "python"
    },
    "language_info": {
      "codemirror_mode": {
        "name": "python",
        "version": 3
      },
      "file_extension": ".py",
      "mimetype": "text/x-python",
      "name": "python",
      "nbconvert_exporter": "python",
      "pygments_lexer": "ipython3",
      "version": "3.8"
    }
  },
  "nbformat_minor": 5,
  "nbformat": 4,
  "cells": [
    {
      "id": "e10c1e24-882c-452a-b64d-58e2cdfa61cd",
      "cell_type": "code",
      "source": "import numpy as np\nfrom datetime import datetime, timedelta\nimport pandas as pd\n\n#Function to simulate IoT sensor data\n\ndef generate_airquality_data(samples=10):\n    \"\"\"\n    Generates simulated IoT sensor data including temperature, humidity, and air quality index.\n\n    Parameters:\n    samples (int): Number of data points to generate.\n\n\n    Returns:\n    pd.DataFrame: A DataFrame containing simulated IoT Data.    \n    \"\"\"\n    data = []\n\n    for i in range(samples):\n        sensor_id = f\"Sensor_{i+1}\"\n\n        temperature = round(np.random.uniform(20.0, 35.0), 2) # Temperature in Celsius\n\n        humidity = np.random.randint(40, 80) # Humidity percentage\n\n        air_quality = np.random.randint(50, 200) #AQI Index\n\n        timestamp = datetime.now() - timedelta(minutes=np.random.randint(0, 1440))  # Random timestamp in the last 24 hours\n        formatted_time = timestamp.strftime(\"%H:%M:%S\")\n\n        data.append([sensor_id, temperature, humidity, air_quality, formatted_time])\n        \n    return pd.DataFrame(data, columns=[\"Sensor ID\", \"Temperature (°C)\", \"Humidity (%)\", \"Air Quality Index (AQI)\", \"Timestamp\"])\n\ndef generate_sol_moisture_data(samples=10):\n\n    data = []\n\n    for i in range(samples):\n        sensor_id = f\"Sensor_{i+1}\"\n\n        soil_moisture = f\"{np.random.randint(0, 50)}%\"\n\n        ec = np.random.randint(1, 100, size=1) / 10  \n\n        soil_ph = np.random.randint(1, 150, size=1) / 10\n\n        timestamp = datetime.now() - timedelta(minutes=np.random.randint(0, 1440))  # Random timestamp in the last 24 hours\n        formatted_time = timestamp.strftime(\"%H:%M:%S\")\n\n        data.append([sensor_id, soil_moisture, ec, soil_ph, formatted_time])\n\n    return pd.DataFrame(data, columns=[\"Sensor ID\", \"Soil Moisture (%)\", \"Electrical Conductivity (dS/m)\", \"Soil pH\", \"Timestamp\"])\n        \n\n\n    \niot_data = generate_airquality_data(20)\niot_soil = generate_sol_moisture_data(20)\n\n# iot_data.to_csv(\"iot_data.csv\", index=False)\nprint(\"Air Quality Sensors\")\nprint(iot_data)\n\nprint(\"Soil Quality\")\nprint(iot_soil)",
      "metadata": {
        "trusted": true
      },
      "outputs": [
        {
          "name": "stdout",
          "output_type": "stream",
          "text": "Air Quality Sensors\n    Sensor ID  Temperature (°C)  Humidity (%)  Air Quality Index (AQI)  \\\n0    Sensor_1             23.69            72                      179   \n1    Sensor_2             33.90            50                      140   \n2    Sensor_3             27.26            53                      146   \n3    Sensor_4             34.43            72                       61   \n4    Sensor_5             23.45            48                      129   \n5    Sensor_6             22.01            43                       64   \n6    Sensor_7             25.27            74                      117   \n7    Sensor_8             27.12            76                       54   \n8    Sensor_9             22.26            65                      183   \n9   Sensor_10             31.33            65                      197   \n10  Sensor_11             31.28            56                      177   \n11  Sensor_12             27.67            53                       84   \n12  Sensor_13             32.15            46                      117   \n13  Sensor_14             34.67            59                      183   \n14  Sensor_15             29.09            59                      100   \n15  Sensor_16             33.95            67                       73   \n16  Sensor_17             21.03            54                       77   \n17  Sensor_18             30.45            48                       69   \n18  Sensor_19             27.12            51                      156   \n19  Sensor_20             32.35            61                       91   \n\n   Timestamp  \n0   23:50:52  \n1   21:23:52  \n2   09:24:52  \n3   05:11:52  \n4   09:55:52  \n5   15:23:52  \n6   07:28:52  \n7   18:10:52  \n8   20:57:52  \n9   03:19:52  \n10  02:50:52  \n11  02:35:52  \n12  05:59:52  \n13  12:46:52  \n14  12:40:52  \n15  20:29:52  \n16  05:46:52  \n17  15:03:52  \n18  14:34:52  \n19  04:37:52  \nSoil Quality\n    Sensor ID Soil Moisture (%) Electrical Conductivity (dS/m) Soil pH  \\\n0    Sensor_1                3%                          [0.5]  [11.0]   \n1    Sensor_2               22%                          [2.6]   [2.5]   \n2    Sensor_3               35%                          [5.2]   [0.1]   \n3    Sensor_4               38%                          [2.4]  [12.8]   \n4    Sensor_5               48%                          [5.6]   [0.7]   \n5    Sensor_6               35%                          [4.3]   [8.8]   \n6    Sensor_7                0%                          [1.5]   [9.3]   \n7    Sensor_8               41%                          [6.0]   [5.3]   \n8    Sensor_9                9%                          [0.2]   [6.8]   \n9   Sensor_10               38%                          [7.2]  [11.9]   \n10  Sensor_11               23%                          [4.3]   [3.1]   \n11  Sensor_12               29%                          [8.7]   [3.3]   \n12  Sensor_13               40%                          [4.4]  [10.0]   \n13  Sensor_14               29%                          [1.6]   [5.0]   \n14  Sensor_15               42%                          [3.5]   [8.4]   \n15  Sensor_16               43%                          [8.2]  [10.3]   \n16  Sensor_17               47%                          [3.7]   [3.3]   \n17  Sensor_18               27%                          [2.3]  [11.2]   \n18  Sensor_19               48%                          [0.8]  [11.0]   \n19  Sensor_20               28%                          [5.3]   [1.9]   \n\n   Timestamp  \n0   15:33:52  \n1   00:32:52  \n2   21:42:52  \n3   17:49:52  \n4   08:43:52  \n5   20:44:52  \n6   19:33:52  \n7   23:46:52  \n8   22:52:52  \n9   07:54:52  \n10  01:40:52  \n11  21:34:52  \n12  05:02:52  \n13  16:15:52  \n14  02:41:52  \n15  22:14:53  \n16  06:57:53  \n17  02:52:53  \n18  23:16:53  \n19  01:57:53  \n"
        }
      ],
      "execution_count": 16
    },
    {
      "id": "78c50f50-3546-4e5d-a42f-78aeae9d866f",
      "cell_type": "code",
      "source": "",
      "metadata": {
        "trusted": true
      },
      "outputs": [],
      "execution_count": null
    }
  ]
}