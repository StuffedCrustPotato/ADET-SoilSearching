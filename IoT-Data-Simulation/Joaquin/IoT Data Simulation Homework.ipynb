{
 "cells": [
  {
   "cell_type": "code",
   "execution_count": 3,
   "id": "fc6cd0d2-422c-4f87-8ac0-aa1cd0cf8ba0",
   "metadata": {},
   "outputs": [],
   "source": [
    "import pandas as pd\n",
    "import numpy as np\n",
    "from datetime import datetime, timedelta"
   ]
  },
  {
   "cell_type": "code",
   "execution_count": 5,
   "id": "c812882f-7ab3-4b40-9e2f-dd42caa10461",
   "metadata": {},
   "outputs": [],
   "source": [
    "num_records = 100"
   ]
  },
  {
   "cell_type": "code",
   "execution_count": 7,
   "id": "af713b86-0020-465c-b357-56148a0fb499",
   "metadata": {},
   "outputs": [],
   "source": [
    "data = []"
   ]
  },
  {
   "cell_type": "code",
   "execution_count": 29,
   "id": "1af9a48a-408c-4426-ac61-2bde4f824976",
   "metadata": {},
   "outputs": [],
   "source": [
    "for _ in range(num_records):\n",
    "    record = {\n",
    "        \"timestamp\": datetime.now() - timedelta(minutes=np.random.randint(0, 1440)),\n",
    "        \"patient_id\": f\"PAT{np.random.randint(100, 999)}\",\n",
    "        \"heart_rate\": np.random.randint(60, 100),  # Normal heart rate range\n",
    "        \"blood_pressure\": f\"{np.random.randint(100, 140)}/{np.random.randint(60, 90)}\", \n",
    "        \"oxygen_level\": np.random.randint(95, 100),\n",
    "        \"body_temp\": round(np.random.uniform(36.0, 38.0), 1)\n",
    "    }"
   ]
  },
  {
   "cell_type": "code",
   "execution_count": 31,
   "id": "79e5888a-d073-4bac-8c3a-af4ca16d4869",
   "metadata": {},
   "outputs": [],
   "source": [
    "df = pd.DataFrame(data)"
   ]
  },
  {
   "cell_type": "code",
   "execution_count": 33,
   "id": "fb9a18b6-d683-4fd4-8c8d-8918761e6320",
   "metadata": {},
   "outputs": [],
   "source": [
    "df.to_csv(\"healthcare_data.csv\", index=False)\n",
    "df.to_json(\"healthcare_data.json\", orient=\"records\")"
   ]
  },
  {
   "cell_type": "code",
   "execution_count": 35,
   "id": "f0dda630-cf6d-4c0d-afff-c775213a2afd",
   "metadata": {},
   "outputs": [
    {
     "data": {
      "text/html": [
       "<div>\n",
       "<style scoped>\n",
       "    .dataframe tbody tr th:only-of-type {\n",
       "        vertical-align: middle;\n",
       "    }\n",
       "\n",
       "    .dataframe tbody tr th {\n",
       "        vertical-align: top;\n",
       "    }\n",
       "\n",
       "    .dataframe thead th {\n",
       "        text-align: right;\n",
       "    }\n",
       "</style>\n",
       "<table border=\"1\" class=\"dataframe\">\n",
       "  <thead>\n",
       "    <tr style=\"text-align: right;\">\n",
       "      <th></th>\n",
       "    </tr>\n",
       "  </thead>\n",
       "  <tbody>\n",
       "  </tbody>\n",
       "</table>\n",
       "</div>"
      ],
      "text/plain": [
       "Empty DataFrame\n",
       "Columns: []\n",
       "Index: []"
      ]
     },
     "execution_count": 35,
     "metadata": {},
     "output_type": "execute_result"
    }
   ],
   "source": [
    "df.head()"
   ]
  }
 ],
 "metadata": {
  "kernelspec": {
   "display_name": "Python 3 (ipykernel)",
   "language": "python",
   "name": "python3"
  },
  "language_info": {
   "codemirror_mode": {
    "name": "ipython",
    "version": 3
   },
   "file_extension": ".py",
   "mimetype": "text/x-python",
   "name": "python",
   "nbconvert_exporter": "python",
   "pygments_lexer": "ipython3",
   "version": "3.12.4"
  }
 },
 "nbformat": 4,
 "nbformat_minor": 5
}
