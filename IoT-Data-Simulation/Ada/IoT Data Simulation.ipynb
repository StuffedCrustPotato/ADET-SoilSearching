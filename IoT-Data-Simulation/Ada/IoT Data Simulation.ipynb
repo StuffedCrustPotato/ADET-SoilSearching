{
 "cells": [
  {
   "cell_type": "code",
   "execution_count": 1,
   "id": "04c5ab38-2aa4-4ff9-9617-1592c6f6b1e7",
   "metadata": {},
   "outputs": [],
   "source": [
    "import pandas as pd\n",
    "import numpy as np\n",
    "from datetime import datetime, timedelta\n",
    "\n",
    "num_records = 100  # Number of simulated data points\n",
    "\n",
    "data = []\n",
    "\n",
    "for _ in range(num_records):\n",
    "    record = {\n",
    "        \"timestamp\": datetime.now() - timedelta(minutes=np.random.randint(0, 1440)),  # Within last 24 hours\n",
    "        \"sensor_id\": f\"SENSOR{np.random.randint(1000, 9999)}\",  # Random sensor ID\n",
    "        \"temperature_C\": round(np.random.uniform(15.0, 35.0), 1),  # Ambient temperature\n",
    "        \"humidity_%\": round(np.random.uniform(30.0, 90.0), 1),  # Relative humidity\n",
    "        \"air_quality_index\": np.random.randint(0, 300),  # AQI range: 0 (Good) to 300+ (Hazardous)\n",
    "        \"co2_ppm\": np.random.randint(400, 2000),  # CO2 levels in parts per million\n",
    "        \"noise_level_dB\": round(np.random.uniform(30.0, 100.0), 1)  # Noise level in decibels\n",
    "    }\n",
    "    data.append(record)"
   ]
  },
  {
   "cell_type": "code",
   "execution_count": 2,
   "id": "84204440-da4a-466a-9085-d6b97f002850",
   "metadata": {},
   "outputs": [
    {
     "name": "stdout",
     "output_type": "stream",
     "text": [
      "                    timestamp   sensor_id  temperature_C  humidity_%  \\\n",
      "0  2025-05-11 14:22:43.150013  SENSOR5007           20.0        84.9   \n",
      "1  2025-05-11 15:02:43.201512  SENSOR4146           34.1        48.6   \n",
      "2  2025-05-11 15:30:43.201512  SENSOR8635           18.6        38.6   \n",
      "3  2025-05-10 19:10:43.201512  SENSOR2024           23.9        46.2   \n",
      "4  2025-05-10 22:07:43.201512  SENSOR8481           17.3        72.9   \n",
      "..                        ...         ...            ...         ...   \n",
      "95 2025-05-10 19:34:43.204447  SENSOR5446           28.9        39.1   \n",
      "96 2025-05-11 10:10:43.204447  SENSOR3299           24.2        70.5   \n",
      "97 2025-05-11 02:16:43.204447  SENSOR5195           17.3        85.6   \n",
      "98 2025-05-11 04:30:43.204447  SENSOR5950           24.2        58.5   \n",
      "99 2025-05-11 05:11:43.204447  SENSOR6912           34.6        49.5   \n",
      "\n",
      "    air_quality_index  co2_ppm  noise_level_dB  \n",
      "0                 216      827            73.8  \n",
      "1                 241      637            98.7  \n",
      "2                 116     1279            77.5  \n",
      "3                 265     1220            79.7  \n",
      "4                  67     1351            33.1  \n",
      "..                ...      ...             ...  \n",
      "95                 67      945            30.9  \n",
      "96                132      863            46.0  \n",
      "97                137      402            92.6  \n",
      "98                145     1639            49.9  \n",
      "99                 18     1018            90.2  \n",
      "\n",
      "[100 rows x 7 columns]\n"
     ]
    }
   ],
   "source": [
    "# Convert to DataFrame\n",
    "df = pd.DataFrame(data)\n",
    "\n",
    "# Print the dataset before saving\n",
    "print(df)"
   ]
  },
  {
   "cell_type": "code",
   "execution_count": 5,
   "id": "b30c7611-7456-4267-9680-5a349d9a8d92",
   "metadata": {},
   "outputs": [],
   "source": [
    "# Save dataset\n",
    "df.to_csv(\"environmental_data.csv\", index=False)"
   ]
  },
  {
   "cell_type": "code",
   "execution_count": null,
   "id": "ffb81b46-7e75-4dcf-82e7-5e767d93b5ca",
   "metadata": {},
   "outputs": [],
   "source": []
  }
 ],
 "metadata": {
  "kernelspec": {
   "display_name": "Python [conda env:base] *",
   "language": "python",
   "name": "conda-base-py"
  },
  "language_info": {
   "codemirror_mode": {
    "name": "ipython",
    "version": 3
   },
   "file_extension": ".py",
   "mimetype": "text/x-python",
   "name": "python",
   "nbconvert_exporter": "python",
   "pygments_lexer": "ipython3",
   "version": "3.12.7"
  }
 },
 "nbformat": 4,
 "nbformat_minor": 5
}
