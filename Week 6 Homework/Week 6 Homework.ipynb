{
 "cells": [
  {
   "cell_type": "code",
   "execution_count": 14,
   "id": "76488b2f-d303-4df2-a68a-8f3fd852aaeb",
   "metadata": {},
   "outputs": [
    {
     "name": "stdout",
     "output_type": "stream",
     "text": [
      "Requirement already satisfied: web3 in c:\\users\\james\\anaconda3\\lib\\site-packages (7.12.0)\n",
      "Requirement already satisfied: pandas in c:\\users\\james\\anaconda3\\lib\\site-packages (2.2.2)\n",
      "Requirement already satisfied: py-solc-x in c:\\users\\james\\anaconda3\\lib\\site-packages (2.0.4)\n",
      "Requirement already satisfied: eth-abi>=5.0.1 in c:\\users\\james\\anaconda3\\lib\\site-packages (from web3) (5.2.0)\n",
      "Requirement already satisfied: eth-account>=0.13.6 in c:\\users\\james\\anaconda3\\lib\\site-packages (from web3) (0.13.7)\n",
      "Requirement already satisfied: eth-hash>=0.5.1 in c:\\users\\james\\anaconda3\\lib\\site-packages (from eth-hash[pycryptodome]>=0.5.1->web3) (0.7.1)\n",
      "Requirement already satisfied: eth-typing>=5.0.0 in c:\\users\\james\\anaconda3\\lib\\site-packages (from web3) (5.2.1)\n",
      "Requirement already satisfied: eth-utils>=5.0.0 in c:\\users\\james\\anaconda3\\lib\\site-packages (from web3) (5.3.0)\n",
      "Requirement already satisfied: hexbytes>=1.2.0 in c:\\users\\james\\anaconda3\\lib\\site-packages (from web3) (1.3.1)\n",
      "Requirement already satisfied: aiohttp>=3.7.4.post0 in c:\\users\\james\\anaconda3\\lib\\site-packages (from web3) (3.10.5)\n",
      "Requirement already satisfied: pydantic>=2.4.0 in c:\\users\\james\\anaconda3\\lib\\site-packages (from web3) (2.8.2)\n",
      "Requirement already satisfied: pywin32>=223 in c:\\users\\james\\anaconda3\\lib\\site-packages (from web3) (305.1)\n",
      "Requirement already satisfied: requests>=2.23.0 in c:\\users\\james\\anaconda3\\lib\\site-packages (from web3) (2.32.3)\n",
      "Requirement already satisfied: typing-extensions>=4.0.1 in c:\\users\\james\\anaconda3\\lib\\site-packages (from web3) (4.11.0)\n",
      "Requirement already satisfied: types-requests>=2.0.0 in c:\\users\\james\\anaconda3\\lib\\site-packages (from web3) (2.32.0.20250602)\n",
      "Requirement already satisfied: websockets<16.0.0,>=10.0.0 in c:\\users\\james\\anaconda3\\lib\\site-packages (from web3) (15.0.1)\n",
      "Requirement already satisfied: pyunormalize>=15.0.0 in c:\\users\\james\\anaconda3\\lib\\site-packages (from web3) (16.0.0)\n",
      "Requirement already satisfied: numpy>=1.26.0 in c:\\users\\james\\anaconda3\\lib\\site-packages (from pandas) (1.26.4)\n",
      "Requirement already satisfied: python-dateutil>=2.8.2 in c:\\users\\james\\anaconda3\\lib\\site-packages (from pandas) (2.9.0.post0)\n",
      "Requirement already satisfied: pytz>=2020.1 in c:\\users\\james\\anaconda3\\lib\\site-packages (from pandas) (2024.1)\n",
      "Requirement already satisfied: tzdata>=2022.7 in c:\\users\\james\\anaconda3\\lib\\site-packages (from pandas) (2023.3)\n",
      "Requirement already satisfied: packaging>=23.1 in c:\\users\\james\\anaconda3\\lib\\site-packages (from py-solc-x) (24.1)\n",
      "Requirement already satisfied: aiohappyeyeballs>=2.3.0 in c:\\users\\james\\anaconda3\\lib\\site-packages (from aiohttp>=3.7.4.post0->web3) (2.4.0)\n",
      "Requirement already satisfied: aiosignal>=1.1.2 in c:\\users\\james\\anaconda3\\lib\\site-packages (from aiohttp>=3.7.4.post0->web3) (1.2.0)\n",
      "Requirement already satisfied: attrs>=17.3.0 in c:\\users\\james\\anaconda3\\lib\\site-packages (from aiohttp>=3.7.4.post0->web3) (23.1.0)\n",
      "Requirement already satisfied: frozenlist>=1.1.1 in c:\\users\\james\\anaconda3\\lib\\site-packages (from aiohttp>=3.7.4.post0->web3) (1.4.0)\n",
      "Requirement already satisfied: multidict<7.0,>=4.5 in c:\\users\\james\\anaconda3\\lib\\site-packages (from aiohttp>=3.7.4.post0->web3) (6.0.4)\n",
      "Requirement already satisfied: yarl<2.0,>=1.0 in c:\\users\\james\\anaconda3\\lib\\site-packages (from aiohttp>=3.7.4.post0->web3) (1.11.0)\n",
      "Requirement already satisfied: parsimonious<0.11.0,>=0.10.0 in c:\\users\\james\\anaconda3\\lib\\site-packages (from eth-abi>=5.0.1->web3) (0.10.0)\n",
      "Requirement already satisfied: bitarray>=2.4.0 in c:\\users\\james\\anaconda3\\lib\\site-packages (from eth-account>=0.13.6->web3) (3.4.2)\n",
      "Requirement already satisfied: eth-keyfile<0.9.0,>=0.7.0 in c:\\users\\james\\anaconda3\\lib\\site-packages (from eth-account>=0.13.6->web3) (0.8.1)\n",
      "Requirement already satisfied: eth-keys>=0.4.0 in c:\\users\\james\\anaconda3\\lib\\site-packages (from eth-account>=0.13.6->web3) (0.7.0)\n",
      "Requirement already satisfied: eth-rlp>=2.1.0 in c:\\users\\james\\anaconda3\\lib\\site-packages (from eth-account>=0.13.6->web3) (2.2.0)\n",
      "Requirement already satisfied: rlp>=1.0.0 in c:\\users\\james\\anaconda3\\lib\\site-packages (from eth-account>=0.13.6->web3) (4.1.0)\n",
      "Requirement already satisfied: ckzg>=2.0.0 in c:\\users\\james\\anaconda3\\lib\\site-packages (from eth-account>=0.13.6->web3) (2.1.1)\n",
      "Requirement already satisfied: pycryptodome<4,>=3.6.6 in c:\\users\\james\\anaconda3\\lib\\site-packages (from eth-hash[pycryptodome]>=0.5.1->web3) (3.23.0)\n",
      "Requirement already satisfied: cytoolz>=0.10.1 in c:\\users\\james\\anaconda3\\lib\\site-packages (from eth-utils>=5.0.0->web3) (0.12.2)\n",
      "Requirement already satisfied: annotated-types>=0.4.0 in c:\\users\\james\\anaconda3\\lib\\site-packages (from pydantic>=2.4.0->web3) (0.6.0)\n",
      "Requirement already satisfied: pydantic-core==2.20.1 in c:\\users\\james\\anaconda3\\lib\\site-packages (from pydantic>=2.4.0->web3) (2.20.1)\n",
      "Requirement already satisfied: six>=1.5 in c:\\users\\james\\anaconda3\\lib\\site-packages (from python-dateutil>=2.8.2->pandas) (1.16.0)\n",
      "Requirement already satisfied: charset-normalizer<4,>=2 in c:\\users\\james\\anaconda3\\lib\\site-packages (from requests>=2.23.0->web3) (3.3.2)\n",
      "Requirement already satisfied: idna<4,>=2.5 in c:\\users\\james\\anaconda3\\lib\\site-packages (from requests>=2.23.0->web3) (3.7)\n",
      "Requirement already satisfied: urllib3<3,>=1.21.1 in c:\\users\\james\\anaconda3\\lib\\site-packages (from requests>=2.23.0->web3) (2.2.3)\n",
      "Requirement already satisfied: certifi>=2017.4.17 in c:\\users\\james\\anaconda3\\lib\\site-packages (from requests>=2.23.0->web3) (2024.8.30)\n",
      "Requirement already satisfied: toolz>=0.8.0 in c:\\users\\james\\anaconda3\\lib\\site-packages (from cytoolz>=0.10.1->eth-utils>=5.0.0->web3) (0.12.0)\n",
      "Requirement already satisfied: regex>=2022.3.15 in c:\\users\\james\\anaconda3\\lib\\site-packages (from parsimonious<0.11.0,>=0.10.0->eth-abi>=5.0.1->web3) (2024.9.11)\n"
     ]
    }
   ],
   "source": [
    "!pip install web3 pandas py-solc-x"
   ]
  },
  {
   "cell_type": "code",
   "execution_count": 15,
   "id": "d9a5fc46-4eb4-464e-a9a9-4bfebf520831",
   "metadata": {},
   "outputs": [],
   "source": [
    "import pandas as pd\n",
    "from web3 import Web3\n",
    "from solcx import compile_source, install_solc\n",
    "import re\n",
    "import time"
   ]
  },
  {
   "cell_type": "code",
   "execution_count": 16,
   "id": "ed8f6094-57b9-4a6d-9ee4-8c13ebbe3fd5",
   "metadata": {},
   "outputs": [
    {
     "data": {
      "text/plain": [
       "<Version('0.8.0')>"
      ]
     },
     "execution_count": 16,
     "metadata": {},
     "output_type": "execute_result"
    }
   ],
   "source": [
    "# Install compiler\n",
    "install_solc('0.8.0')"
   ]
  },
  {
   "cell_type": "code",
   "execution_count": 17,
   "id": "c6e74781-470d-492e-ba66-d09c202a56cf",
   "metadata": {},
   "outputs": [
    {
     "name": "stdout",
     "output_type": "stream",
     "text": [
      "Connected to Ganache: True\n"
     ]
    }
   ],
   "source": [
    "# Connect to Ganache\n",
    "ganache_url = \"HTTP://127.0.0.1:7545\"\n",
    "web3 = Web3(Web3.HTTPProvider(ganache_url))\n",
    "web3.eth.default_account = web3.eth.accounts[0]\n",
    "print(\"Connected to Ganache:\", web3.is_connected())"
   ]
  },
  {
   "cell_type": "code",
   "execution_count": 18,
   "id": "558bc8d2-0358-4270-ac8d-a353c39ef193",
   "metadata": {},
   "outputs": [],
   "source": [
    "# Define and deploy contract\n",
    "contract_source = '''\n",
    "// SPDX-License-Identifier: MIT\n",
    "pragma solidity ^0.8.0;\n",
    "\n",
    "contract IoTDataStorage {\n",
    "    struct DataRecord {\n",
    "        uint256 timestamp;\n",
    "        string sensorID;\n",
    "        string soil_moisture;\n",
    "        string electrical_conductivity;\n",
    "        string soil_ph;\n",
    "        string sensorTime;\n",
    "    }\n",
    "    \n",
    "    DataRecord[] public dataRecords;\n",
    "    \n",
    "    function storeData(\n",
    "        string memory _sensorID,\n",
    "        string memory _soil_moisture,\n",
    "        string memory _electrical_conductivity,\n",
    "        string memory _soil_ph,\n",
    "        string memory _sensorTime\n",
    "    ) public {\n",
    "        dataRecords.push(DataRecord(\n",
    "            block.timestamp,\n",
    "            _sensorID,\n",
    "            _soil_moisture,\n",
    "            _electrical_conductivity,\n",
    "            _soil_ph,\n",
    "            _sensorTime\n",
    "        ));\n",
    "    }\n",
    "    \n",
    "    function getRecord(uint index) public view returns (\n",
    "        uint256, string memory, string memory, string memory, \n",
    "        string memory, string memory\n",
    "    ) {\n",
    "        DataRecord memory r = dataRecords[index];\n",
    "        return (\n",
    "            r.timestamp, \n",
    "            r.sensorID, \n",
    "            r.soil_moisture,\n",
    "            r.electrical_conductivity,\n",
    "            r.soil_ph,\n",
    "            r.sensorTime\n",
    "        );\n",
    "    }\n",
    "    \n",
    "    function getTotalRecords() public view returns (uint) {\n",
    "        return dataRecords.length;\n",
    "    }\n",
    "}\n",
    "'''"
   ]
  },
  {
   "cell_type": "code",
   "execution_count": 19,
   "id": "c4f104ae-42c6-4df8-9bd3-2d8894b4a54c",
   "metadata": {},
   "outputs": [],
   "source": [
    "# Compile and deploy\n",
    "compiled = compile_source(contract_source, solc_version='0.8.0')\n",
    "contract_id, contract_interface = compiled.popitem()\n",
    "bytecode = contract_interface['bin']\n",
    "abi = contract_interface['abi']"
   ]
  },
  {
   "cell_type": "code",
   "execution_count": 20,
   "id": "92f619c0-6a7f-4e4b-af29-7923a915591e",
   "metadata": {},
   "outputs": [
    {
     "name": "stdout",
     "output_type": "stream",
     "text": [
      "✅ Contract deployed at 0xa44223159ee4B6a2B87bF79577F97b99CF2f1a36\n",
      "ABI: [{'inputs': [{'internalType': 'uint256', 'name': '', 'type': 'uint256'}], 'name': 'dataRecords', 'outputs': [{'internalType': 'uint256', 'name': 'timestamp', 'type': 'uint256'}, {'internalType': 'string', 'name': 'sensorID', 'type': 'string'}, {'internalType': 'string', 'name': 'soil_moisture', 'type': 'string'}, {'internalType': 'string', 'name': 'electrical_conductivity', 'type': 'string'}, {'internalType': 'string', 'name': 'soil_ph', 'type': 'string'}, {'internalType': 'string', 'name': 'sensorTime', 'type': 'string'}], 'stateMutability': 'view', 'type': 'function'}, {'inputs': [{'internalType': 'uint256', 'name': 'index', 'type': 'uint256'}], 'name': 'getRecord', 'outputs': [{'internalType': 'uint256', 'name': '', 'type': 'uint256'}, {'internalType': 'string', 'name': '', 'type': 'string'}, {'internalType': 'string', 'name': '', 'type': 'string'}, {'internalType': 'string', 'name': '', 'type': 'string'}, {'internalType': 'string', 'name': '', 'type': 'string'}, {'internalType': 'string', 'name': '', 'type': 'string'}], 'stateMutability': 'view', 'type': 'function'}, {'inputs': [], 'name': 'getTotalRecords', 'outputs': [{'internalType': 'uint256', 'name': '', 'type': 'uint256'}], 'stateMutability': 'view', 'type': 'function'}, {'inputs': [{'internalType': 'string', 'name': '_sensorID', 'type': 'string'}, {'internalType': 'string', 'name': '_soil_moisture', 'type': 'string'}, {'internalType': 'string', 'name': '_electrical_conductivity', 'type': 'string'}, {'internalType': 'string', 'name': '_soil_ph', 'type': 'string'}, {'internalType': 'string', 'name': '_sensorTime', 'type': 'string'}], 'name': 'storeData', 'outputs': [], 'stateMutability': 'nonpayable', 'type': 'function'}]\n"
     ]
    }
   ],
   "source": [
    "# Deploy with sufficient gas\n",
    "contract = web3.eth.contract(abi=abi, bytecode=bytecode)\n",
    "tx_hash = contract.constructor().transact({'gas': 3000000})\n",
    "tx_receipt = web3.eth.wait_for_transaction_receipt(tx_hash)\n",
    "contract_address = tx_receipt.contractAddress\n",
    "\n",
    "print(f\"✅ Contract deployed at {contract_address}\")\n",
    "print(f\"ABI: {abi}\")"
   ]
  },
  {
   "cell_type": "code",
   "execution_count": 21,
   "id": "9a67f9b8-88f6-4b7e-863b-ea203c88c929",
   "metadata": {},
   "outputs": [],
   "source": [
    "# Data cleaning and storage functions\n",
    "def clean_value(value_str):\n",
    "    \"\"\"Extract numeric value from strings like '30%' or '[8.7]'\"\"\"\n",
    "    match = re.search(r'(\\d+\\.?\\d*)', str(value_str))\n",
    "    return match.group(1) if match else \"0\""
   ]
  },
  {
   "cell_type": "code",
   "execution_count": 22,
   "id": "7abc78f2-7776-4f5f-9636-0538565ddddd",
   "metadata": {},
   "outputs": [
    {
     "name": "stdout",
     "output_type": "stream",
     "text": [
      "Original data:\n",
      "  Sensor ID Soil Moisture (%) Electrical Conductivity (dS/m) Soil pH  \\\n",
      "0  Sensor_1               30%                          [8.7]  [11.4]   \n",
      "1  Sensor_2               29%                           [1.]  [12.4]   \n",
      "2  Sensor_3                4%                          [0.9]    [3.]   \n",
      "3  Sensor_4               31%                          [5.7]  [13.9]   \n",
      "4  Sensor_5               49%                          [9.4]   [3.7]   \n",
      "\n",
      "             Timestamp  \n",
      "0  2025-05-23 19:57:42  \n",
      "1  2025-05-24 01:33:42  \n",
      "2  2025-05-24 04:45:42  \n",
      "3  2025-05-23 18:31:42  \n",
      "4  2025-05-24 13:16:42  \n"
     ]
    }
   ],
   "source": [
    "# Load and clean data\n",
    "df = pd.read_csv(\"iot_data_soil.csv\")\n",
    "print(\"Original data:\")\n",
    "print(df.head())"
   ]
  },
  {
   "cell_type": "code",
   "execution_count": 23,
   "id": "af58ddc0-bb51-453a-ab24-ad21c673359e",
   "metadata": {},
   "outputs": [
    {
     "name": "stdout",
     "output_type": "stream",
     "text": [
      "\n",
      "Cleaned data:\n",
      "  Sensor ID Soil Moisture (%) Electrical Conductivity (dS/m) Soil pH  \\\n",
      "0  Sensor_1                30                            8.7    11.4   \n",
      "1  Sensor_2                29                             1.    12.4   \n",
      "2  Sensor_3                 4                            0.9      3.   \n",
      "3  Sensor_4                31                            5.7    13.9   \n",
      "4  Sensor_5                49                            9.4     3.7   \n",
      "\n",
      "             Timestamp  \n",
      "0  2025-05-23 19:57:42  \n",
      "1  2025-05-24 01:33:42  \n",
      "2  2025-05-24 04:45:42  \n",
      "3  2025-05-23 18:31:42  \n",
      "4  2025-05-24 13:16:42  \n"
     ]
    }
   ],
   "source": [
    "# Clean values\n",
    "df['Soil Moisture (%)'] = df['Soil Moisture (%)'].apply(clean_value)\n",
    "df['Electrical Conductivity (dS/m)'] = df['Electrical Conductivity (dS/m)'].apply(clean_value)\n",
    "df['Soil pH'] = df['Soil pH'].apply(clean_value)\n",
    "\n",
    "print(\"\\nCleaned data:\")\n",
    "print(df.head())"
   ]
  },
  {
   "cell_type": "code",
   "execution_count": 24,
   "id": "23edea74-866c-4e87-95f8-4a041412f77b",
   "metadata": {},
   "outputs": [],
   "source": [
    "# Create contract instance\n",
    "contract = web3.eth.contract(address=contract_address, abi=abi)"
   ]
  },
  {
   "cell_type": "code",
   "execution_count": 25,
   "id": "f4ca8cd4-71f3-42e2-8dd2-ee2f4a54c399",
   "metadata": {},
   "outputs": [
    {
     "name": "stdout",
     "output_type": "stream",
     "text": [
      "Stored record 1/10: 46d92ec30ab7660dbeaf0c1936b7c5880ab2fcd4b4f8f42ae5fe212b6274755e\n",
      "Stored record 2/10: 21c6ca42d0ae07766b1f87bc914121f2f084a8eb99084126ed835cb45738b7f9\n",
      "Stored record 3/10: 31883e97c06256d0dae443955806962018ce2d000beb32b9d4c8da686e508da9\n",
      "Stored record 4/10: 9de0f1a4607c1a84cd98cf678c4e7f5ee9c98b08358871d5ee9415d3b630c791\n",
      "Stored record 5/10: 46a035cd114972a798a89b13cb4211ff2e646a670978c7faf7fbce418e163cb5\n",
      "Stored record 6/10: d064a461367f53dfd02246a99c135613ad2ab70eea5d2a82f2beaab39d9bef70\n",
      "Stored record 7/10: 52d3a3ea25c8e49e440cc7cd7d3d7326cd69343eb9bdd1bc6d42918962ef9621\n",
      "Stored record 8/10: 92706acadd56c518c388ed6ddce3ef91bf428018c2804e56af522048acb2967b\n",
      "Stored record 9/10: df2956c552fccb9ec11257e88b42728ac970249e0b2f06443edd92eda76b72f2\n",
      "Stored record 10/10: f669836828462cd2e18c96f0b6c13ceb66aee8e91f33b56a321a6d051133f1b7\n",
      "✅ All data stored!\n"
     ]
    }
   ],
   "source": [
    "# Send data\n",
    "for idx, row in df.iterrows():\n",
    "    tx_hash = contract.functions.storeData(\n",
    "        str(row['Sensor ID']),\n",
    "        str(row['Soil Moisture (%)']),\n",
    "        str(row['Electrical Conductivity (dS/m)']),\n",
    "        str(row['Soil pH']),\n",
    "        str(row['Timestamp'])\n",
    "    ).transact({'gas': 1000000})\n",
    "    receipt = web3.eth.wait_for_transaction_receipt(tx_hash)\n",
    "    print(f\"Stored record {idx+1}/{len(df)}: {receipt.transactionHash.hex()}\")\n",
    "    time.sleep(0.5)  # Avoid overwhelming Ganache\n",
    "\n",
    "print(\"✅ All data stored!\")"
   ]
  },
  {
   "cell_type": "code",
   "execution_count": 26,
   "id": "f7e9161f-d335-4f88-9539-baba60a4d4dc",
   "metadata": {},
   "outputs": [
    {
     "name": "stdout",
     "output_type": "stream",
     "text": [
      "Total records retrieved: 10\n"
     ]
    }
   ],
   "source": [
    "# Retrieve and process data\n",
    "total_records = contract.functions.getTotalRecords().call()\n",
    "print(f\"Total records retrieved: {total_records}\")"
   ]
  },
  {
   "cell_type": "code",
   "execution_count": 27,
   "id": "f3cb9ca2-193e-410b-abc3-4525fb6626e0",
   "metadata": {},
   "outputs": [],
   "source": [
    "# Process into DataFrame\n",
    "data = []\n",
    "for i in range(total_records):\n",
    "    record = contract.functions.getRecord(i).call()\n",
    "    data.append({\n",
    "        \"block_timestamp\": record[0],\n",
    "        \"sensor_id\": record[1],\n",
    "        \"soil_moisture\": record[2],\n",
    "        \"electrical_conductivity\": record[3],\n",
    "        \"soil_ph\": record[4],\n",
    "        \"sensor_timestamp\": record[5]\n",
    "    })\n",
    "\n",
    "df_retrieved = pd.DataFrame(data)\n",
    "df_retrieved[\"block_timestamp\"] = pd.to_datetime(df_retrieved[\"block_timestamp\"], unit=\"s\")\n",
    "df_retrieved[\"sensor_timestamp\"] = pd.to_datetime(df_retrieved[\"sensor_timestamp\"])"
   ]
  },
  {
   "cell_type": "code",
   "execution_count": 28,
   "id": "d9b049ea-a71e-405a-a5fa-09db68242c31",
   "metadata": {},
   "outputs": [],
   "source": [
    "# Convert to numeric\n",
    "df_retrieved[\"soil_moisture\"] = pd.to_numeric(df_retrieved[\"soil_moisture\"])\n",
    "df_retrieved[\"electrical_conductivity\"] = pd.to_numeric(df_retrieved[\"electrical_conductivity\"])\n",
    "df_retrieved[\"soil_ph\"] = pd.to_numeric(df_retrieved[\"soil_ph\"])"
   ]
  },
  {
   "cell_type": "code",
   "execution_count": 29,
   "id": "7c35dc4d-e60d-4a48-b010-45c83f364b9b",
   "metadata": {},
   "outputs": [
    {
     "name": "stdout",
     "output_type": "stream",
     "text": [
      "✅ Cleaned data saved!\n",
      "\n",
      "Final cleaned data:\n",
      "      block_timestamp sensor_id  soil_moisture  electrical_conductivity  \\\n",
      "0 2025-06-09 04:09:02  Sensor_1             30                      8.7   \n",
      "1 2025-06-09 04:09:03  Sensor_2             29                      1.0   \n",
      "2 2025-06-09 04:09:04  Sensor_3              4                      0.9   \n",
      "3 2025-06-09 04:09:04  Sensor_4             31                      5.7   \n",
      "4 2025-06-09 04:09:05  Sensor_5             49                      9.4   \n",
      "\n",
      "   soil_ph    sensor_timestamp  \n",
      "0     11.4 2025-05-23 19:57:42  \n",
      "1     12.4 2025-05-24 01:33:42  \n",
      "2      3.0 2025-05-24 04:45:42  \n",
      "3     13.9 2025-05-23 18:31:42  \n",
      "4      3.7 2025-05-24 13:16:42  \n"
     ]
    }
   ],
   "source": [
    "# Save cleaned data\n",
    "df_retrieved.to_csv(\"cleaned_iot_data.csv\", index=False)\n",
    "print(\"✅ Cleaned data saved!\")\n",
    "print(\"\\nFinal cleaned data:\")\n",
    "print(df_retrieved.head())"
   ]
  },
  {
   "cell_type": "code",
   "execution_count": null,
   "id": "634848b3-1641-4c6d-be3c-24d0a1211291",
   "metadata": {},
   "outputs": [],
   "source": []
  }
 ],
 "metadata": {
  "kernelspec": {
   "display_name": "Python 3 (ipykernel)",
   "language": "python",
   "name": "python3"
  },
  "language_info": {
   "codemirror_mode": {
    "name": "ipython",
    "version": 3
   },
   "file_extension": ".py",
   "mimetype": "text/x-python",
   "name": "python",
   "nbconvert_exporter": "python",
   "pygments_lexer": "ipython3",
   "version": "3.12.7"
  }
 },
 "nbformat": 4,
 "nbformat_minor": 5
}
